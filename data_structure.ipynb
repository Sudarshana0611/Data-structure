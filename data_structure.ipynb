{
  "nbformat": 4,
  "nbformat_minor": 0,
  "metadata": {
    "colab": {
      "provenance": []
    },
    "kernelspec": {
      "name": "python3",
      "display_name": "Python 3"
    },
    "language_info": {
      "name": "python"
    }
  },
  "cells": [
    {
      "cell_type": "markdown",
      "source": [
        "***Data Types and Structures Questions***"
      ],
      "metadata": {
        "id": "DVoYl_ciOeuD"
      }
    },
    {
      "cell_type": "markdown",
      "source": [
        "1.What are data structures, and why are they important?\n",
        "\n",
        "Ans.Data structures are specialized formats for organizing, storing, and accessing collections of data. They provide efficient ways to manage information based on its characteristics and intended use.\n",
        "\n",
        "Data structure is very important for:\n",
        "\n",
        "*   Choosing the right data structure significantly impacts the efficiency and performance of your program.\n",
        "*   Well-chosen data structures can:\n",
        "Simplify data manipulation (adding, removing, modifying elements).\n",
        "*   Optimize searching and sorting operations,\n",
        "Conserve memory usage.\n",
        "\n",
        "\n",
        "\n"
      ],
      "metadata": {
        "id": "B6LqWnBhOcxl"
      }
    },
    {
      "cell_type": "markdown",
      "source": [
        "2. Explain the difference between mutable and immutable data types with examples?\n",
        "\n",
        "Ans. Mutable data types:- Objects/container which value can be changed after they are created are called \"mutable datatypes\".\n",
        "eg.,list.\n",
        "\n",
        " Immutable datatypes:-  Objects/container which value cannot be changed after they are created are called \"mutable datatypes\".\n",
        " e.g, string."
      ],
      "metadata": {
        "id": "t53anTZZP1H8"
      }
    },
    {
      "cell_type": "markdown",
      "source": [
        "3.What are the main differences between lists and tuples in Python?\n",
        "\n",
        "ans. List:- Ordered, mutable collections of elements. Think of shopping lists or task lists. Lists can hold items of various data types (numbers, strings, even other lists!).\n",
        "\n",
        "Tuples :- Ordered, immutable collections of elements, similar to lists. However, once created, the items in a tuple cannot be changed. They provide a secure way to store data that shouldn't be modified."
      ],
      "metadata": {
        "id": "eNXQpssFRB4O"
      }
    },
    {
      "cell_type": "markdown",
      "source": [
        "4. Describe how dictionaries store data?\n",
        "\n",
        "Ans. Operations (Basic):\n",
        "\n",
        "Add: Use direct assignment (dictionary_name[key] = value) or .update() method.\n",
        "Access: Retrieve values using their keys (value = dictionary_name[key]).\n",
        "Remove: Use del dictionary_name[key], .pop(key), or .popitem().\n",
        "Check membership: Use the in operator (key in dictionary_name)."
      ],
      "metadata": {
        "id": "qDo10kcuRki_"
      }
    },
    {
      "cell_type": "markdown",
      "source": [
        "5. Why might you use a set instead of a list in Python?\n",
        "\n",
        "ans. Key Reasons to Use a Set:\n",
        "1. Uniqueness of Elements\n",
        "Sets automatically eliminate duplicate values.\n",
        "eg. my_set = {1, 2, 2, 3}  # Result: {1, 2, 3}\n",
        "2. Faster Membership Testing\n",
        "Sets are implemented as hash tables, making lookups (x in set) much faster than in lists—average O(1) time vs O(n) in lists.\n",
        "eg. x in my_set  # Fast\n",
        "   x in my_list  # Slower\n",
        "3. Mathematical Set Operations\n",
        "Sets support union, intersection, difference, and symmetric difference.\n",
        "eg. a = {1, 2, 3}\n",
        "b = {3, 4, 5}\n",
        "a & b  # intersection: {3}\n",
        "   \n",
        "\n",
        "\n",
        "  \n"
      ],
      "metadata": {
        "id": "G6s6qdqLSfpv"
      }
    },
    {
      "cell_type": "markdown",
      "source": [
        "6. What is a string in Python, and how is it different from a list?\n",
        "\n",
        "ans. A string is:\n",
        "\n",
        "Immutable — once created, it cannot be changed.\n",
        "written with quotes: 'hello', \"world\", or triple quotes for multi-line strings: '''multi-line'''\n",
        "Basically a sequence of Unicode characters.\n",
        "eg. my_string = \"hello\"\n",
        "Different from a list:-\n",
        "A set is different from a list in Python in several key ways:\n",
        "\n",
        "A set stores unique items only, while a list can contain duplicates.\n",
        "\n",
        "Sets are unordered, so the elements have no fixed position; lists maintain the order of insertion.\n",
        "\n",
        "Sets do not support indexing or slicing, whereas lists do.\n",
        "\n",
        "Checking for membership (e.g., x in set) is generally faster with sets due to their hash-based implementation.\n",
        "\n",
        "Sets support mathematical operations like union and intersection; lists do not have built-in support for these."
      ],
      "metadata": {
        "id": "yCm0uDrRUZW8"
      }
    },
    {
      "cell_type": "markdown",
      "source": [
        "7. How do tuples ensure data integrity in Python?\n",
        "ans. Tuples help ensure data integrity in Python mainly through their immutability.\n",
        "A tuple is immutable, meaning once it’s created, its contents cannot be changed — you can’t add, remove, or modify items.\n",
        "\n",
        "This makes tuples ideal for representing fixed collections of data, like coordinates, database records, or configuration values.\n",
        "\n",
        "Because they can’t be accidentally changed, tuples help protect the data from bugs or unintended modifications.\n",
        "\n",
        "Their immutability also allows them to be used as keys in dictionaries and elements in sets, unlike lists"
      ],
      "metadata": {
        "id": "8BzRuILiV5ss"
      }
    },
    {
      "cell_type": "markdown",
      "source": [
        "8. What is a hash table, and how does it relate to dictionaries in Python?\n",
        "ans. A hash table is a data structure that stores key-value pairs and allows for fast access to values based on their keys. It works by using a hash function to convert a key into an index in an internal array, where the corresponding value is stored.\n",
        "\n",
        "How This Relates to Dictionaries in Python:\n",
        "In Python, the dict (dictionary) is implemented using a hash table under the hood.\n",
        "\n",
        "This is why dictionary operations like dict[key], insertion, deletion, and membership tests are very fast, often close to O(1) time on average.\n",
        "\n",
        "The keys in a dictionary must be hashable (i.e., have a __hash__() method and be immutable, like strings, numbers, or tuples)."
      ],
      "metadata": {
        "id": "YnNPR9K1WrNe"
      }
    },
    {
      "cell_type": "markdown",
      "source": [
        "9. Can lists contain different data types in Python?\n",
        "ans. Yes, lists in Python can contain different data types.\n",
        "\n",
        "Python is a dynamically typed language, so a single list can hold a mix of integers, strings, floats, booleans, even other lists or custom objects.\n",
        "eg. mixed_list = [42, \"hello\", 3.14, True, [1, 2, 3]]\n"
      ],
      "metadata": {
        "id": "05tJ4MKrXFKO"
      }
    },
    {
      "cell_type": "markdown",
      "source": [
        "10. Explain why strings are immutable in Python.\n",
        "\n",
        "ans. trings are immutable in Python, meaning once a string is created, it cannot be changed — any operation that seems to modify a string actually creates a new string.\n",
        "1. Efficiency\n",
        "Immutable objects like strings can be safely shared and cached, improving performance. For example, Python uses a technique called string interning, where identical strings are stored only once in memory.\n",
        "2. Security and Predictability\n",
        "Since strings can't be changed, they’re safe to use as keys in dictionaries or elements in sets (which require hashable — and therefore immutable — types).\n",
        "3. Simplicity\n",
        "It avoids bugs — if many parts of a program reference the same string, there's no risk that one part will accidentally modify it and affect others.\n",
        "4. Consistency\n",
        "Immutability aligns with how strings are used in most programming languages — as fixed sequences of characters — making Python’s behavior consistent and predictable."
      ],
      "metadata": {
        "id": "fOGbhfLtXTRd"
      }
    },
    {
      "cell_type": "markdown",
      "source": [
        "11. What advantages do dictionaries offer over lists for certain tasks?\n",
        "\n",
        "ans.  Key Advantages of Dictionaries Over Lists:\n",
        "1. Fast Lookup by Key:- Dictionaries provide constant time (O(1)) access to values using keys, thanks to their underlying hash table implementation.\n",
        "Lists require linear time (O(n)) to find an item by value or index unless you already know the position.\n",
        "2. Key-Value Mapping:- Dictionaries let you associate meaningful keys with values (e.g., 'name': 'Alice'), making code more readable and intuitive.\n",
        "Lists use numerical indices only, which can be less clear and harder to manage.\n",
        "3. No Need to Search for Index:- You can directly access or update values with a known key in a dictionary.\n",
        "With lists, you often need to search for an element or rely on its position.\n",
        "4. Flexible and Dynamic:- You can easily add, remove, or update entries in a dictionary without worrying about order or shifting elements like in a list.\n",
        "5.Ideal for Structured Data:- Dictionaries are great for representing structured data, such as a person’s attributes:\n"
      ],
      "metadata": {
        "id": "q_Q8C1cIX40x"
      }
    },
    {
      "cell_type": "markdown",
      "source": [
        "12. Describe a scenario where using a tuple would be preferable over a list?\n",
        "\n",
        "ans. A scenario where using a tuple would be preferable is when storing dates as year, month, and day values that should not change. For example:\n",
        "birthdate = (1990, 5, 15) Tuple: Immutable date.\n",
        "\n",
        "Since a birthdate is fixed and shouldn’t be altered, using a tuple ensures immutability and guarantees that the data remains consistent throughout the program."
      ],
      "metadata": {
        "id": "v2QXDEkpY9gg"
      }
    },
    {
      "cell_type": "markdown",
      "source": [
        "13.P How do sets handle duplicate values in Python?\n",
        "\n",
        "ans. In Python, sets automatically remove duplicate values. If you try to add a duplicate value to a set, it simply ignores it, ensuring that each element is unique.\n",
        "eg.,my_set = {1, 2, 3, 3, 4}\n",
        "print(my_set)  \n",
        " Output: {1, 2, 3, 4}.\n",
        "\n",
        "In this example, the duplicate value 3 is discarded, leaving only unique values in the set."
      ],
      "metadata": {
        "id": "QzvXZwStahTL"
      }
    },
    {
      "cell_type": "markdown",
      "source": [
        "14.How does the “in” keyword work differently for lists and dictionaries?\n",
        "\n",
        "ans.The in keyword works differently for lists and dictionaries in Python because it checks for membership in different ways:\n",
        "\n",
        "\n",
        "1.  For Lists:\n",
        "The in keyword checks if a value is present in the list.\n",
        "eg., my_list = [1, 2, 3, 4]\n",
        "print(3 in my_list)  # Output: True (checks if 3 is in the list)\n",
        "print(5 in my_list)  # Output: False (5 is not in the list).\n",
        "\n",
        "2.   For Dictionaries:\n",
        "The in keyword checks if a key is present in the dictionary, not the value.\n",
        "e.g, my_dict = {'a': 1, 'b': 2, 'c': 3}\n",
        "print('b' in my_dict)  # Output: True (checks if 'b' is a key)\n",
        "print(2 in my_dict)    # Output: False (checks if 2 is a key, not a value).\n",
        "\n"
      ],
      "metadata": {
        "id": "jghtdI73bNiv"
      }
    },
    {
      "cell_type": "markdown",
      "source": [
        "15.P Can you modify the elements of a tuple? Explain why or why not?\n",
        "\n",
        "ans. No, we cannot modify the elements of a tuple in Python because tuples are immutable. Once a tuple is created, its elements cannot be changed, added, or removed.\n",
        "\n",
        "* Immutability ensures that the tuple's data remains constant throughout the program.\n",
        "* This prevents accidental changes and allows the tuple to be safely used in situations where data integrity is important (e.g., as keys in dictionaries or elements in sets).\n",
        "* If you want to \"modify\" a tuple, you must create a new tuple with the desired values.\n",
        "e.g, my_tuple = (1, 2, 3)\n",
        "*  Trying to modify an element will result in an error\n",
        "my_tuple[1] = 5  # TypeError: 'tuple' object does not support item assignment\n",
        "If you need to change the values, you would create a new tuple:\n",
        "e.g new_tuple = my_tuple[:1] + (5,) + my_tuple[2:]\n",
        "print(new_tuple)  # Output: (1, 5, 3)\n",
        "\n"
      ],
      "metadata": {
        "id": "I1i73mcBbrzO"
      }
    },
    {
      "cell_type": "markdown",
      "source": [
        "16. What is a nested dictionary, and give an example of its use case?\n",
        "\n",
        "ans. A nested dictionary is a dictionary where the values can themselves be dictionaries, creating a hierarchy or structure of key-value pairs within key-value pairs.\n",
        "\n",
        "Example of a Nested Dictionary:\n",
        "Let's say you're storing information about multiple students, including their name, age, and subjects with associated grades.\n",
        "students = {\n",
        "    'Alice': {\n",
        "        'age': 20,\n",
        "        'subjects': {'Math': 'A', 'English': 'B'}\n",
        "    },\n",
        "    'Bob': {\n",
        "        'age': 22,\n",
        "        'subjects': {'Math': 'C', 'History': 'B+'}\n",
        "    }\n",
        "}\n",
        "\n",
        "Use Case:\n",
        "A common use case for nested dictionaries is storing structured data like employee records, product catalogs, or student databases, where each entry has multiple attributes that can also be complex and require their own nested structure.\n"
      ],
      "metadata": {
        "id": "u3MZdqzzcOp0"
      }
    },
    {
      "cell_type": "markdown",
      "source": [
        "17.Describe the time complexity of accessing elements in a dictionary?\n",
        "\n",
        "ans. Dictionaries in Python are implemented using hash tables. When you access an element using a key, Python:\n",
        "\n",
        "Computes a hash value for the key.\n",
        "\n",
        "Uses that hash value to directly access the location of the value in the underlying data structure.\n",
        "\n",
        "This allows for direct lookups without having to search through all the items, leading to constant time complexity.\n",
        "\n",
        "Worst-case scenario:\n",
        "In rare cases (e.g., when there are a lot of hash collisions), the time complexity can degrade to O(n), where n is the number of items in the dictionary. However, Python’s hash table implementation is designed to minimize this situation, so O(1) is the typical case for lookups.\n"
      ],
      "metadata": {
        "id": "d5vTsDxFdOjS"
      }
    },
    {
      "cell_type": "markdown",
      "source": [
        "18.  In what situations are lists preferred over dictionaries?\n",
        "\n",
        "ans. Lists are preferred over dictionaries in situations where:\n",
        "\n",
        "Order matters:\n",
        "When the order of elements is important and you need to access them by their position (index).\n",
        "\n",
        "Example: Storing a sequence of tasks in the order they need to be completed.\n",
        "\n",
        "Duplicate values are allowed:\n",
        "If you need to store multiple duplicate values, a list is the better choice since dictionaries only allow unique keys.\n",
        "\n",
        "Example: Storing a list of items purchased, where the same item might be bought multiple times.\n",
        "\n",
        "Index-based access:\n",
        "When you need to access items based on their position or index rather than a specific key.\n",
        "\n",
        "Example: Accessing specific elements in a series of data (like a list of temperatures).\n",
        "\n",
        "Simple collections:\n",
        "When you just need a linear collection of items and don’t need the overhead of key-value pairs.\n",
        "\n",
        "Example: Storing a list of names."
      ],
      "metadata": {
        "id": "oHNcK7GGdpS9"
      }
    },
    {
      "cell_type": "markdown",
      "source": [
        "19.Why are dictionaries considered unordered, and how does that affect data retrieval?\n",
        "ans. Dictionaries in Python are considered unordered because, before Python 3.7, the elements in a dictionary did not maintain any specific order. This means that when you retrieved or iterated over a dictionary, the order of key-value pairs could be arbitrary and not follow the order in which they were inserted.\n",
        "\n",
        "Why Are Dictionaries Unordered?\n",
        "Hash Table Implementation:\n",
        "Python dictionaries are implemented using hash tables. In a hash table, keys are hashed into indices, and values are stored in those indices. This process does not inherently preserve any insertion order.\n",
        "\n",
        "Optimization for Speed:\n",
        "The primary focus of dictionaries is to provide fast lookups and efficient insertions/deletions, not to maintain order. The underlying data structure is optimized for quick access by key, rather than keeping track of the sequence in which items were added."
      ],
      "metadata": {
        "id": "1mqpSvVTdyjY"
      }
    },
    {
      "cell_type": "markdown",
      "source": [
        "20. Explain the difference between a list and a dictionary in terms of data retrieval?\n",
        "\n",
        "ans. The difference between a list and a dictionary in terms of data retrieval lies in how they store and access data:\n",
        "\n",
        "1. List:\n",
        "Index-based Retrieval:\n",
        "Data in a list is accessed by its index, which is an integer that represents the position of the element in the list (starting from 0).\n",
        "\n",
        "Order:\n",
        "Lists maintain the order in which elements are added.\n",
        "eg., my_list = [10, 20, 30]\n",
        "print(my_list[1])  # Output: 20 (access by index)\n",
        "\n",
        "\n",
        "Dictionary:\n",
        "Key-based Retrieval:\n",
        "Data in a dictionary is accessed using a key. Each key is unique, and it maps to a specific value.\n",
        "\n",
        "Example:my_dict = {'a': 10, 'b': 20, 'c': 30}\n",
        "print(my_dict['b'])  # Output: 20 (access by key)\n",
        "\n",
        "Order (Python 3.7+):\n",
        "Dictionaries preserve the insertion order starting from Python 3.7, but they are primarily designed for quick key-based access, not maintaining order.\n",
        "\n",
        "Time Complexity:\n",
        "\n",
        "Accessing a value by its key is O(1) on average (constant time), thanks to hash tables.\n",
        "\n",
        "Searching for a key requires O(1) time, whereas searching for a value (if the key is not known) requires O(n) time.\n",
        "\n",
        "\n"
      ],
      "metadata": {
        "id": "Ory0e36beCGT"
      }
    },
    {
      "cell_type": "markdown",
      "source": [
        "# **PRACTICAL QUESTIONS**"
      ],
      "metadata": {
        "id": "W_HGrJYkejQX"
      }
    },
    {
      "cell_type": "code",
      "source": [
        "# Write a code to create a string with your name and print it?\n",
        "name = str(\"PABITRA\")\n",
        "print(name)\n"
      ],
      "metadata": {
        "colab": {
          "base_uri": "https://localhost:8080/"
        },
        "id": "x9tperuRen9G",
        "outputId": "13deca30-cd18-42e6-9a37-b3701864ee97"
      },
      "execution_count": null,
      "outputs": [
        {
          "output_type": "stream",
          "name": "stdout",
          "text": [
            "PABITRA\n"
          ]
        }
      ]
    },
    {
      "cell_type": "code",
      "source": [
        "# Write a code to find the length of the string \"Hello World\"?\n",
        "str = \"Hello World\"\n",
        "print(len(str))\n"
      ],
      "metadata": {
        "colab": {
          "base_uri": "https://localhost:8080/"
        },
        "id": "hqCexSfafDGy",
        "outputId": "f77acdf1-cfdf-4440-da82-777a014800d9"
      },
      "execution_count": null,
      "outputs": [
        {
          "output_type": "stream",
          "name": "stdout",
          "text": [
            "11\n"
          ]
        }
      ]
    },
    {
      "cell_type": "code",
      "source": [
        "#Write a code to slice the first 3 characters from the string \"Python Programming?\n",
        "str = \"Python Programming\"\n",
        "print(str[0:3])"
      ],
      "metadata": {
        "colab": {
          "base_uri": "https://localhost:8080/"
        },
        "id": "JGIN4cEpfOTh",
        "outputId": "9198b6a9-60aa-43c0-b955-8977942f5b4b"
      },
      "execution_count": null,
      "outputs": [
        {
          "output_type": "stream",
          "name": "stdout",
          "text": [
            "Pyt\n"
          ]
        }
      ]
    },
    {
      "cell_type": "code",
      "source": [
        "# Write a code to convert the string \"hello\" to uppercase ?\n",
        "text = \"hello\"\n",
        "uppercase_text = text.upper()\n",
        "print(uppercase_text)\n"
      ],
      "metadata": {
        "colab": {
          "base_uri": "https://localhost:8080/"
        },
        "id": "-IPFkxq0-15C",
        "outputId": "7dfa2396-6ca0-492e-97bb-03ba8e5a421f"
      },
      "execution_count": 6,
      "outputs": [
        {
          "output_type": "stream",
          "name": "stdout",
          "text": [
            "HELLO\n"
          ]
        }
      ]
    },
    {
      "cell_type": "code",
      "source": [
        "# Write a code to replace the word \"apple\" with \"orange\" in the string \"I like apple\" ?\n",
        "text = \"I like apple\"\n",
        "new_text = text.replace(\"apple\", \"orange\")\n",
        "print(new_text)"
      ],
      "metadata": {
        "colab": {
          "base_uri": "https://localhost:8080/"
        },
        "id": "3JVtIPib_7QE",
        "outputId": "46c56537-1101-4d62-94bd-ba65adc07b14"
      },
      "execution_count": 8,
      "outputs": [
        {
          "output_type": "stream",
          "name": "stdout",
          "text": [
            "I like orange\n"
          ]
        }
      ]
    },
    {
      "cell_type": "code",
      "source": [
        "# Write a code to create a list with numbers 1 to 5 and print it?\n",
        "\n",
        "my_list = [1, 2, 3, 4, 5]\n",
        "print(my_list)"
      ],
      "metadata": {
        "colab": {
          "base_uri": "https://localhost:8080/"
        },
        "id": "HGSSTJACAtPI",
        "outputId": "968aae81-a054-4b6f-efad-c527b1177eff"
      },
      "execution_count": 14,
      "outputs": [
        {
          "output_type": "stream",
          "name": "stdout",
          "text": [
            "[1, 2, 3, 4, 5]\n"
          ]
        }
      ]
    },
    {
      "cell_type": "code",
      "source": [
        "# Write a code to append the number 10 to the list [1, 2, 3, 4] ?\n",
        "\n",
        "my_list = [1,2,3,4]\n",
        "my_list.append(10)\n",
        "print(my_list)"
      ],
      "metadata": {
        "colab": {
          "base_uri": "https://localhost:8080/"
        },
        "id": "9ajbBK0gBIH1",
        "outputId": "17792a83-9cd3-4076-be17-c042bc3e83ed"
      },
      "execution_count": 16,
      "outputs": [
        {
          "output_type": "stream",
          "name": "stdout",
          "text": [
            "[1, 2, 3, 4, 10]\n"
          ]
        }
      ]
    },
    {
      "cell_type": "code",
      "source": [
        "# Write a code to remove the number 3 from the list [1, 2, 3, 4, 5]?\n",
        "\n",
        "my_list = [1,2,3,4,5]\n",
        "my_list.remove(3)\n",
        "print(my_list)\n"
      ],
      "metadata": {
        "colab": {
          "base_uri": "https://localhost:8080/"
        },
        "id": "pQ6r-JRpBX2J",
        "outputId": "0607009c-239b-48cd-e93b-7a2300479c36"
      },
      "execution_count": 17,
      "outputs": [
        {
          "output_type": "stream",
          "name": "stdout",
          "text": [
            "[1, 2, 4, 5]\n"
          ]
        }
      ]
    },
    {
      "cell_type": "code",
      "source": [
        "#   Write a code to access the second element in the list ['a', 'b', 'c', 'd']?\n",
        "\n",
        "my_list = ['a','b','c','d']\n",
        "print(my_list[1])\n"
      ],
      "metadata": {
        "colab": {
          "base_uri": "https://localhost:8080/"
        },
        "id": "jioHlCCjBrb0",
        "outputId": "7069675c-ccf4-494e-e50a-f422e5207953"
      },
      "execution_count": 18,
      "outputs": [
        {
          "output_type": "stream",
          "name": "stdout",
          "text": [
            "b\n"
          ]
        }
      ]
    },
    {
      "cell_type": "code",
      "source": [
        "# Write a code to reverse the list [10, 20, 30, 40, 50]?\n",
        "my_list = [10,20,30,40,50]\n",
        "my_list.reverse()\n",
        "print(my_list)"
      ],
      "metadata": {
        "colab": {
          "base_uri": "https://localhost:8080/"
        },
        "id": "78t2Orw4CSN6",
        "outputId": "7c64817b-409e-498b-c842-659266519d01"
      },
      "execution_count": 19,
      "outputs": [
        {
          "output_type": "stream",
          "name": "stdout",
          "text": [
            "[50, 40, 30, 20, 10]\n"
          ]
        }
      ]
    },
    {
      "cell_type": "code",
      "source": [
        "#  Write a code to create a tuple with the elements 100, 200, 300 and print it.?\n",
        "my_tuple = (100,200,300)\n",
        "print(my_tuple)\n"
      ],
      "metadata": {
        "colab": {
          "base_uri": "https://localhost:8080/"
        },
        "id": "8cyF5viTCbwG",
        "outputId": "d62bcff9-15bb-40c0-8b84-e4fb4259af8c"
      },
      "execution_count": 20,
      "outputs": [
        {
          "output_type": "stream",
          "name": "stdout",
          "text": [
            "(100, 200, 300)\n"
          ]
        }
      ]
    },
    {
      "cell_type": "code",
      "source": [
        "#  Write a code to access the second-to-last element of the tuple ('red', 'green', 'blue', 'yellow').?\n",
        "my_tuple = ('red','green','blue','yellow')\n",
        "print(my_tuple[2])\n"
      ],
      "metadata": {
        "colab": {
          "base_uri": "https://localhost:8080/"
        },
        "id": "u4YyUqa5DA6V",
        "outputId": "1ab720cd-9f29-40dc-94cf-63fa94e3d074"
      },
      "execution_count": 22,
      "outputs": [
        {
          "output_type": "stream",
          "name": "stdout",
          "text": [
            "blue\n"
          ]
        }
      ]
    },
    {
      "cell_type": "code",
      "source": [
        " # Write a code to find the minimum number in the tuple (10, 20, 5, 15) ?\n",
        "my_tuple = (10,20,5,15)\n",
        "min_number = min(my_tuple)\n",
        "print(min_number)"
      ],
      "metadata": {
        "colab": {
          "base_uri": "https://localhost:8080/"
        },
        "id": "zuVRBUkRDRVn",
        "outputId": "13465911-bd19-463d-f59b-14427c51126b"
      },
      "execution_count": 24,
      "outputs": [
        {
          "output_type": "stream",
          "name": "stdout",
          "text": [
            "5\n"
          ]
        }
      ]
    },
    {
      "cell_type": "code",
      "source": [
        "#  Write a code to find the index of the element \"cat\" in the tuple ('dog', 'cat', 'rabbit').?\n",
        "my_tuple = ('dog','cat','rabbit')\n",
        "index = my_tuple.index('cat')\n",
        "print(index)"
      ],
      "metadata": {
        "colab": {
          "base_uri": "https://localhost:8080/"
        },
        "id": "GtUFqwuzD-o6",
        "outputId": "fdb83c45-59a6-4ec9-87cd-09ad1330182e"
      },
      "execution_count": 25,
      "outputs": [
        {
          "output_type": "stream",
          "name": "stdout",
          "text": [
            "1\n"
          ]
        }
      ]
    },
    {
      "cell_type": "code",
      "source": [
        "# Write a code to create a tuple containing three different fruits and check if \"kiwi\" is in it.?\n",
        "\n",
        "my_tuple = ('apple','banana','kiwi','orange')\n",
        "print('kiwi' in my_tuple)\n"
      ],
      "metadata": {
        "colab": {
          "base_uri": "https://localhost:8080/"
        },
        "id": "aMpmD3cZE3rR",
        "outputId": "426b1f68-4198-497e-925f-925abc09a455"
      },
      "execution_count": 26,
      "outputs": [
        {
          "output_type": "stream",
          "name": "stdout",
          "text": [
            "True\n"
          ]
        }
      ]
    },
    {
      "cell_type": "code",
      "source": [
        "# Write a code to create a set with the elements 'a', 'b', 'c' and print it.?\n",
        "my_set = {'a','b','c'}\n",
        "print(my_set)"
      ],
      "metadata": {
        "colab": {
          "base_uri": "https://localhost:8080/"
        },
        "id": "TcT09PIcF1uk",
        "outputId": "b9b4e612-8c57-4c1c-82fe-e0772cb8e148"
      },
      "execution_count": 31,
      "outputs": [
        {
          "output_type": "stream",
          "name": "stdout",
          "text": [
            "{'b', 'c', 'a'}\n"
          ]
        }
      ]
    },
    {
      "cell_type": "code",
      "source": [
        "# Write a code to clear all elements from the set {1, 2, 3, 4, 5}.?\n",
        "my_set = {1, 2, 3, 4, 5}\n",
        "my_set.clear()\n",
        "print(my_set)"
      ],
      "metadata": {
        "colab": {
          "base_uri": "https://localhost:8080/"
        },
        "id": "Mwsnlh1RGLZM",
        "outputId": "d9ab113a-4583-4163-c54f-e2ec8ca80420"
      },
      "execution_count": 43,
      "outputs": [
        {
          "output_type": "stream",
          "name": "stdout",
          "text": [
            "set()\n"
          ]
        }
      ]
    },
    {
      "cell_type": "code",
      "source": [
        "#Write a code to remove the element 4 from the set {1, 2, 3, 4}.?\n",
        "set = {1,2,3,4}\n",
        "set.remove(4)\n",
        "print(set)"
      ],
      "metadata": {
        "colab": {
          "base_uri": "https://localhost:8080/"
        },
        "id": "UWPb5A2iGupb",
        "outputId": "43e24250-adfb-478e-f3ab-a175abb39982"
      },
      "execution_count": 44,
      "outputs": [
        {
          "output_type": "stream",
          "name": "stdout",
          "text": [
            "{1, 2, 3}\n"
          ]
        }
      ]
    },
    {
      "cell_type": "code",
      "source": [
        "#  Write a code to find the union of two sets {1, 2, 3} and {3, 4, 5}.\n",
        "set1 = {1,2,3}\n",
        "set2 = {3,4,5}\n",
        "union_set = set1.union(set2)\n",
        "print(union_set)"
      ],
      "metadata": {
        "colab": {
          "base_uri": "https://localhost:8080/"
        },
        "id": "WZMbQkQ0HnKb",
        "outputId": "9261e7b4-0458-44af-b156-568a9d42f00d"
      },
      "execution_count": 45,
      "outputs": [
        {
          "output_type": "stream",
          "name": "stdout",
          "text": [
            "{1, 2, 3, 4, 5}\n"
          ]
        }
      ]
    },
    {
      "cell_type": "code",
      "source": [
        "# Write a code to find the intersection of two sets {1, 2, 3} and {2, 3, 4}.\n",
        "set1 = {1,2,3}\n",
        "set2 = {2,3,4}\n",
        "intersection_set = set1.intersection(set2)\n",
        "print(intersection_set)"
      ],
      "metadata": {
        "colab": {
          "base_uri": "https://localhost:8080/"
        },
        "id": "YmvAE7H0I83A",
        "outputId": "d039f465-b040-4ece-fb20-d6a6dc91ffc4"
      },
      "execution_count": 46,
      "outputs": [
        {
          "output_type": "stream",
          "name": "stdout",
          "text": [
            "{2, 3}\n"
          ]
        }
      ]
    },
    {
      "cell_type": "code",
      "source": [
        "# Write a code to create a dictionary with the keys \"name\", \"age\", and \"city\",\n",
        "# and print it?\n",
        "person = {\n",
        "    \"name\": \"Alice\",\n",
        "    \"age\": 30,\n",
        "    \"city\": \"New York\"\n",
        "}\n",
        "\n",
        "print(person)\n",
        "\n"
      ],
      "metadata": {
        "colab": {
          "base_uri": "https://localhost:8080/"
        },
        "id": "y0No5nIRJMEA",
        "outputId": "99fc1b49-5582-482c-ebf0-0f82a1f28d4b"
      },
      "execution_count": 47,
      "outputs": [
        {
          "output_type": "stream",
          "name": "stdout",
          "text": [
            "{'name': 'Alice', 'age': 30, 'city': 'New York'}\n"
          ]
        }
      ]
    },
    {
      "cell_type": "code",
      "source": [
        "#Write a code to add a new key-value pair \"country\": \"USA\" to the dictionary {'name': 'John', 'age': 25}.?\n",
        "my_dict = {'name': 'John', 'age': 25}\n",
        "my_dict['country'] = 'USA'\n",
        "print(my_dict)"
      ],
      "metadata": {
        "colab": {
          "base_uri": "https://localhost:8080/"
        },
        "id": "ljnwJmT9KHEB",
        "outputId": "9df7a0a4-9da7-4d33-f6cf-0b1b955cc260"
      },
      "execution_count": 48,
      "outputs": [
        {
          "output_type": "stream",
          "name": "stdout",
          "text": [
            "{'name': 'John', 'age': 25, 'country': 'USA'}\n"
          ]
        }
      ]
    },
    {
      "cell_type": "code",
      "source": [
        "#  Write a code to access the value associated with the key \"name\" in the dictionary {'name': 'Alice', 'age': 30}.?\n",
        "my_dict = {'name': 'Alice', 'age': 30}\n",
        "print(my_dict['name'])"
      ],
      "metadata": {
        "colab": {
          "base_uri": "https://localhost:8080/"
        },
        "id": "fDXDVpXcKMTb",
        "outputId": "2e39b463-4771-4c17-faf3-41b13c1a198c"
      },
      "execution_count": 49,
      "outputs": [
        {
          "output_type": "stream",
          "name": "stdout",
          "text": [
            "Alice\n"
          ]
        }
      ]
    },
    {
      "cell_type": "code",
      "source": [
        "#Write a code to remove the key \"age\" from the dictionary {'name': 'Bob', 'age': 22, 'city': 'New York'}.?\n",
        "my_dict = {'name': 'Bob', 'age': 22, 'city': 'New York'}\n",
        "del my_dict['age']\n",
        "print(my_dict)"
      ],
      "metadata": {
        "colab": {
          "base_uri": "https://localhost:8080/"
        },
        "id": "5CfpAuy2KTdc",
        "outputId": "2d191685-5b83-428f-9273-c7080075a1c4"
      },
      "execution_count": 50,
      "outputs": [
        {
          "output_type": "stream",
          "name": "stdout",
          "text": [
            "{'name': 'Bob', 'city': 'New York'}\n"
          ]
        }
      ]
    },
    {
      "cell_type": "code",
      "source": [
        "# Write a code to check if the key \"city\" exists in the dictionary {'name': 'Alice', 'city': 'Paris'}?\n",
        "my_dict = {'name': 'Alice', 'city': 'Paris'}\n",
        "if 'city' in my_dict:\n",
        "    print(\"The key 'city' exists in the dictionary.\")\n",
        "else:\n",
        "    print(\"The key 'city' does not exist in the dictionary.\")"
      ],
      "metadata": {
        "colab": {
          "base_uri": "https://localhost:8080/"
        },
        "id": "FVfJT9j_KZ6y",
        "outputId": "4ba89457-59b6-4297-a931-10686898579b"
      },
      "execution_count": 51,
      "outputs": [
        {
          "output_type": "stream",
          "name": "stdout",
          "text": [
            "The key 'city' exists in the dictionary.\n"
          ]
        }
      ]
    },
    {
      "cell_type": "code",
      "source": [
        "#Write a code to create a list, a tuple, and a dictionary, and print them all.?\n",
        "# Creating a list\n",
        "my_list = [1, 2, 3, 4, 5]\n",
        "\n",
        "# Creating a tuple\n",
        "my_tuple = ('a', 'b', 'c')\n",
        "\n",
        "# Creating a dictionary\n",
        "my_dict = {\"name\": \"John\", \"age\": 25, \"city\": \"London\"}\n",
        "\n",
        "# Printing all\n",
        "print(\"List:\", my_list)\n",
        "print(\"Tuple:\", my_tuple)\n",
        "print(\"Dictionary:\", my_dict)\n"
      ],
      "metadata": {
        "colab": {
          "base_uri": "https://localhost:8080/"
        },
        "id": "W94ap3JOKggd",
        "outputId": "5e85ce8b-0562-4451-9da5-53628c80f7c7"
      },
      "execution_count": 53,
      "outputs": [
        {
          "output_type": "stream",
          "name": "stdout",
          "text": [
            "List: [1, 2, 3, 4, 5]\n",
            "Tuple: ('a', 'b', 'c')\n",
            "Dictionary: {'name': 'John', 'age': 25, 'city': 'London'}\n"
          ]
        }
      ]
    },
    {
      "cell_type": "code",
      "source": [
        "'''*Write a code to create a list of 5 random numbers between 1 and 100, sort it in ascending order, and print the\n",
        "result.(replaced)?\n",
        "'''\n",
        "import random\n",
        "random_numbers = [random.randint(1, 100) for _ in range(5)]\n",
        "random_numbers.sort()\n",
        "print(random_numbers)\n"
      ],
      "metadata": {
        "colab": {
          "base_uri": "https://localhost:8080/"
        },
        "id": "-XzvJPuSLCJX",
        "outputId": "b3feb9ed-b165-4f79-e590-55d852ba1096"
      },
      "execution_count": 54,
      "outputs": [
        {
          "output_type": "stream",
          "name": "stdout",
          "text": [
            "[22, 29, 39, 40, 88]\n"
          ]
        }
      ]
    },
    {
      "cell_type": "code",
      "source": [
        "#Write a code to create a list with strings and print the element at the third index?\n",
        "\n",
        "my_list = [\"apple\", \"banana\", \"cherry\", \"date\", \"elderberry\"]\n",
        "\n",
        "print(my_list[3])\n"
      ],
      "metadata": {
        "colab": {
          "base_uri": "https://localhost:8080/"
        },
        "id": "jXTI1tRDLU_p",
        "outputId": "4edb9153-7a18-44c4-dcfc-ebeef2c5c3f8"
      },
      "execution_count": 55,
      "outputs": [
        {
          "output_type": "stream",
          "name": "stdout",
          "text": [
            "date\n"
          ]
        }
      ]
    },
    {
      "cell_type": "code",
      "source": [
        "#Write a code to combine two dictionaries into one and print the result.?\n",
        "dict1 = {'a': 1, 'b': 2}\n",
        "dict2 = {'c': 3, 'd': 4}\n",
        "combined_dict = {**dict1, **dict2}\n",
        "print(combined_dict)\n"
      ],
      "metadata": {
        "colab": {
          "base_uri": "https://localhost:8080/"
        },
        "id": "U6yFBGBoLnH8",
        "outputId": "af48ab84-7583-4d50-d58b-2b887b294e27"
      },
      "execution_count": 56,
      "outputs": [
        {
          "output_type": "stream",
          "name": "stdout",
          "text": [
            "{'a': 1, 'b': 2, 'c': 3, 'd': 4}\n"
          ]
        }
      ]
    },
    {
      "cell_type": "code",
      "source": [
        "# Write a code to convert a list of strings into a set.?\n",
        "my_list = [\"apple\", \"banana\", \"cherry\", \"date\", \"elderberry\"]\n",
        "my_set = set(my_list)\n",
        "print(my_set)"
      ],
      "metadata": {
        "colab": {
          "base_uri": "https://localhost:8080/",
          "height": 193
        },
        "id": "rptbDl8qLruW",
        "outputId": "f3f76866-8b01-4049-aa86-aaf127d0196b"
      },
      "execution_count": 57,
      "outputs": [
        {
          "output_type": "error",
          "ename": "TypeError",
          "evalue": "'set' object is not callable",
          "traceback": [
            "\u001b[0;31m---------------------------------------------------------------------------\u001b[0m",
            "\u001b[0;31mTypeError\u001b[0m                                 Traceback (most recent call last)",
            "\u001b[0;32m<ipython-input-57-49531fbf42aa>\u001b[0m in \u001b[0;36m<cell line: 0>\u001b[0;34m()\u001b[0m\n\u001b[1;32m      1\u001b[0m \u001b[0;31m# Write a code to convert a list of strings into a set.?\u001b[0m\u001b[0;34m\u001b[0m\u001b[0;34m\u001b[0m\u001b[0m\n\u001b[1;32m      2\u001b[0m \u001b[0mmy_list\u001b[0m \u001b[0;34m=\u001b[0m \u001b[0;34m[\u001b[0m\u001b[0;34m\"apple\"\u001b[0m\u001b[0;34m,\u001b[0m \u001b[0;34m\"banana\"\u001b[0m\u001b[0;34m,\u001b[0m \u001b[0;34m\"cherry\"\u001b[0m\u001b[0;34m,\u001b[0m \u001b[0;34m\"date\"\u001b[0m\u001b[0;34m,\u001b[0m \u001b[0;34m\"elderberry\"\u001b[0m\u001b[0;34m]\u001b[0m\u001b[0;34m\u001b[0m\u001b[0;34m\u001b[0m\u001b[0m\n\u001b[0;32m----> 3\u001b[0;31m \u001b[0mmy_set\u001b[0m \u001b[0;34m=\u001b[0m \u001b[0mset\u001b[0m\u001b[0;34m(\u001b[0m\u001b[0mmy_list\u001b[0m\u001b[0;34m)\u001b[0m\u001b[0;34m\u001b[0m\u001b[0;34m\u001b[0m\u001b[0m\n\u001b[0m\u001b[1;32m      4\u001b[0m \u001b[0mprint\u001b[0m\u001b[0;34m(\u001b[0m\u001b[0mmy_set\u001b[0m\u001b[0;34m)\u001b[0m\u001b[0;34m\u001b[0m\u001b[0;34m\u001b[0m\u001b[0m\n",
            "\u001b[0;31mTypeError\u001b[0m: 'set' object is not callable"
          ]
        }
      ]
    }
  ]
}